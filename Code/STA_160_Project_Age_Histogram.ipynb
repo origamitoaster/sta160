{
 "cells": [
  {
   "cell_type": "code",
   "execution_count": null,
   "metadata": {},
   "outputs": [],
   "source": [
    "top_100 = ranking_df[ranking_df['rank_number_label'] == 'top_100']\n",
    "top_10 = ranking_df[ranking_df['rank_number_label'] == 'top_10']\n",
    "top_50 = ranking_df[ranking_df['rank_number_label'] == 'top_50']\n",
    "top_sucks = ranking_df[ranking_df['rank_number_label'] == 'top_100+']\n",
    "\n",
    "trace1 = go.Histogram(\n",
    "    x=top_100['age'],\n",
    "    name='top_100',\n",
    "    opacity=0.95,\n",
    "    marker = dict(\n",
    "        color = 'rgba(255, 153, 51, .8)')\n",
    "    \n",
    ")\n",
    "trace2 = go.Histogram(\n",
    "    x=top_10['age'],\n",
    "    name='top_10',\n",
    "    opacity=0.85,\n",
    "    marker = dict(\n",
    "        color = 'rgba(255, 0, 0, .6)')\n",
    "    \n",
    ")\n",
    "trace3 = go.Histogram(\n",
    "    x=top_50['age'],\n",
    "    name='top_50',\n",
    "    opacity=0.75,\n",
    "    marker = dict(\n",
    "        color = 'rgba(0, 255, 0, .5)')\n",
    "    \n",
    ")\n",
    "trace4 = go.Histogram(\n",
    "    x=top_sucks['age'],\n",
    "    name='top_100+',\n",
    "    opacity=0.65,\n",
    "    marker = dict(\n",
    "        color = 'rgba(0, 0, 255, .5)')\n",
    "    \n",
    ")\n",
    "\n",
    "data = [ trace1, trace2 , trace3, trace4]\n",
    "layout = go.Layout(title='Distribution of Age in Tennis', xaxis=dict(title='Age'),yaxis=dict(title='Count'),barmode='overlay')\n",
    "fig = go.Figure(data=data, layout=layout)\n",
    "iplot(fig, filename='overlaid histogram')"
   ]
  }
 ],
 "metadata": {
  "kernelspec": {
   "display_name": "Python 3",
   "language": "python",
   "name": "python3"
  },
  "language_info": {
   "codemirror_mode": {
    "name": "ipython",
    "version": 3
   },
   "file_extension": ".py",
   "mimetype": "text/x-python",
   "name": "python",
   "nbconvert_exporter": "python",
   "pygments_lexer": "ipython3",
   "version": "3.6.8"
  }
 },
 "nbformat": 4,
 "nbformat_minor": 2
}
